{
  "nbformat": 4,
  "nbformat_minor": 0,
  "metadata": {
    "colab": {
      "provenance": []
    },
    "kernelspec": {
      "name": "python3",
      "display_name": "Python 3"
    },
    "language_info": {
      "name": "python"
    }
  },
  "cells": [
    {
      "cell_type": "markdown",
      "source": [
        "##ES 654 Prerequisite Test"
      ],
      "metadata": {
        "id": "SkFiW4BqYVPI"
      }
    },
    {
      "cell_type": "markdown",
      "source": [
        "Q1\n",
        "\n",
        "Number of Multiplications = $k \\times m \\times n$  \n",
        "Number of additions = $(k-1) \\times m \\times n$\n",
        "\n",
        "The resulting matrix will contain $m \\times n$ entries when matrices of size $(n, k)$ and $(k, m)$ are multiplied together. Each of these entries will contain k product terms (k columns of first matrix and k rows of second matrix) added together by (k-1) additions."
      ],
      "metadata": {
        "id": "3diNa735jPR-"
      }
    },
    {
      "cell_type": "markdown",
      "source": [
        "Q2"
      ],
      "metadata": {
        "id": "LOcVQItilLHd"
      }
    },
    {
      "cell_type": "code",
      "source": [
        "import numpy as np\n",
        "import time"
      ],
      "metadata": {
        "id": "NCCAIUBFjRor"
      },
      "execution_count": 8,
      "outputs": []
    },
    {
      "cell_type": "code",
      "source": [
        "# Let n = 4, k = 2, m = 3\n",
        "\n",
        "# (4, 2)\n",
        "x = [[4, 3], \n",
        "     [5, 8], \n",
        "     [1, 2], \n",
        "     [9, 10]]\n",
        "\n",
        "# (2, 3)\n",
        "y = [[4, 1, 9], \n",
        "     [7, 3, 5]]\n",
        "\n",
        "# (4, 3) -- Resultant Matrix\n",
        "z = [[0, 0, 0], \n",
        "     [0, 0, 0], \n",
        "     [0, 0, 0], \n",
        "     [0, 0, 0]]"
      ],
      "metadata": {
        "id": "jtmiH3mMlNJo"
      },
      "execution_count": 34,
      "outputs": []
    },
    {
      "cell_type": "code",
      "source": [
        "print(\"Matrix Multiplication by List of Lists\")\n",
        "\n",
        "start = time.time()\n",
        "for i in range(len(x)):\n",
        "  for j in range(len(y[0])):\n",
        "    for k in range(len(y)):\n",
        "      z[i][j] += x[i][k] * y[k][j]\n",
        "\n",
        "print(time.time() - start)\n",
        "print(z)"
      ],
      "metadata": {
        "colab": {
          "base_uri": "https://localhost:8080/"
        },
        "id": "HOMlUyshbKWV",
        "outputId": "329365c4-f6bd-4b22-e046-b41ac9f27c6a"
      },
      "execution_count": 37,
      "outputs": [
        {
          "output_type": "stream",
          "name": "stdout",
          "text": [
            "Matrix Multiplication by List of Lists\n",
            "0.0002071857452392578\n",
            "[[74, 26, 102], [152, 58, 170], [36, 14, 38], [212, 78, 262]]\n"
          ]
        }
      ]
    },
    {
      "cell_type": "code",
      "source": [
        "print(\"Matrix Multiplication by numpy\")\n",
        "start_ = time.time()\n",
        "z_ = np.matmul(x, y)\n",
        "print(time.time() - start_)\n",
        "print(z_)"
      ],
      "metadata": {
        "colab": {
          "base_uri": "https://localhost:8080/"
        },
        "id": "R41Ych-jb8gZ",
        "outputId": "aef315cb-2a4f-4d7d-9663-c51ca1969a31"
      },
      "execution_count": 38,
      "outputs": [
        {
          "output_type": "stream",
          "name": "stdout",
          "text": [
            "Matrix Multiplication by numpy\n",
            "0.00019311904907226562\n",
            "[[ 37  13  51]\n",
            " [ 76  29  85]\n",
            " [ 18   7  19]\n",
            " [106  39 131]]\n"
          ]
        }
      ]
    },
    {
      "cell_type": "markdown",
      "source": [
        "It can be observed that matrix multiplication is very slightly faster when done using numpy. However, if we repeat the time measurements we also find instances when the numpy method is slower. Both the above methods follow the trivial matrix multiplication performed in $O(n^3)$ and thus do not differ much in execution time.\n",
        "\n",
        "Numpy relies on optimzied BLAS libraries, whenever possible, to provide efficient low level implementations of the matmul function. However, these libaries depend of the processor and need to be controlled explicitly. "
      ],
      "metadata": {
        "id": "RQIl_vPOcb9u"
      }
    },
    {
      "cell_type": "markdown",
      "source": [
        "Q4\n",
        "\n",
        "Gradient w.r.t. x ==> $2xy + y^3cos(x)$\n",
        "\n",
        "Gradient w.r.t. y ==> $x^2 + 3y^2sin(x)$"
      ],
      "metadata": {
        "id": "PgHRDYfyjN5e"
      }
    },
    {
      "cell_type": "markdown",
      "source": [
        "Q6"
      ],
      "metadata": {
        "id": "RjX3M8btjwDE"
      }
    },
    {
      "cell_type": "code",
      "source": [
        "from sympy import diff, sin\n",
        "from sympy.abc import x,y\n",
        "\n",
        "expr = (x**2)*y + (y**3)*sin(x)\n",
        "\n",
        "gradient_x = diff(expr, x)\n",
        "gradient_y = diff(expr, y)\n",
        "\n",
        "print(gradient_x)\n",
        "print(gradient_y)"
      ],
      "metadata": {
        "colab": {
          "base_uri": "https://localhost:8080/"
        },
        "id": "ahFgwhHGb924",
        "outputId": "7b818a22-630a-4d4e-ce45-4c82287f55f1"
      },
      "execution_count": 43,
      "outputs": [
        {
          "output_type": "stream",
          "name": "stdout",
          "text": [
            "2*x*y + y**3*cos(x)\n",
            "x**2 + 3*y**2*sin(x)\n"
          ]
        }
      ]
    },
    {
      "cell_type": "markdown",
      "source": [
        "We can see that the gradients obtained using sympy are same to the ones obtained analytically. "
      ],
      "metadata": {
        "id": "rmGL_QpClbGm"
      }
    },
    {
      "cell_type": "markdown",
      "source": [
        "Q7"
      ],
      "metadata": {
        "id": "mJ0oqutUlr8O"
      }
    },
    {
      "cell_type": "code",
      "source": [
        "Student_Information = {\n",
        "    2022: {\n",
        "        \"Branch 1\": {\n",
        "            \"Roll Number\": 1, \n",
        "            \"Name\": \"A\", \n",
        "            \"Marks\": {\n",
        "                \"Maths\": 100, \n",
        "                \"English\":100\n",
        "                }\n",
        "        },\n",
        "        \"Branch 2\": {\n",
        "            \"Roll Number\": 2, \n",
        "            \"Name\": \"B\", \n",
        "            \"Marks\": {\n",
        "                \"Maths\": 99, \n",
        "                \"English\":99\n",
        "                }\n",
        "        }\n",
        "    },\n",
        "    2023: {\n",
        "        \"Branch 1\": {\n",
        "            \"Roll Number\": 1, \n",
        "            \"Name\": \"C\", \n",
        "            \"Marks\": {\n",
        "                \"Maths\": 98, \n",
        "                \"English\":98\n",
        "                }\n",
        "        },\n",
        "        \"Branch 2\": {\n",
        "            \"Roll Number\": 2, \n",
        "            \"Name\": \"D\", \n",
        "            \"Marks\": {\n",
        "                \"Maths\": 97, \n",
        "                \"English\":97\n",
        "                }\n",
        "        }\n",
        "    },\n",
        "    2024: {\n",
        "        \"Branch 1\": {\n",
        "            \"Roll Number\": 1, \n",
        "            \"Name\": \"E\", \n",
        "            \"Marks\": {\n",
        "                \"Maths\": 96, \n",
        "                \"English\":96\n",
        "                }\n",
        "        },\n",
        "        \"Branch 2\": {\n",
        "            \"Roll Number\": 2, \n",
        "            \"Name\": \"F\", \n",
        "            \"Marks\": {\n",
        "                \"Maths\": 95, \n",
        "                \"English\":95\n",
        "                }\n",
        "        }\n",
        "    },\n",
        "    2025: {\n",
        "        \"Branch 1\": {\n",
        "            \"Roll Number\": 1, \n",
        "            \"Name\": \"G\", \n",
        "            \"Marks\": {\n",
        "                \"Maths\": 94, \n",
        "                \"English\":94\n",
        "                }\n",
        "        },\n",
        "        \"Branch 2\": {\n",
        "            \"Roll Number\": 2, \n",
        "            \"Name\": \"H\", \n",
        "            \"Marks\": {\n",
        "                \"Maths\": 93, \n",
        "                \"English\":93\n",
        "                }\n",
        "        }\n",
        "    }\n",
        "}"
      ],
      "metadata": {
        "id": "yXV1wTtWlNKe"
      },
      "execution_count": 44,
      "outputs": []
    },
    {
      "cell_type": "markdown",
      "source": [
        "Q13"
      ],
      "metadata": {
        "id": "4pMWkjJFoAsn"
      }
    },
    {
      "cell_type": "code",
      "source": [
        "import numpy as np\n",
        "\n",
        "def argmin(x):\n",
        "  min = x[0]\n",
        "  index = 0\n",
        "  for i in range(len(x)):\n",
        "    if min > x[i]:\n",
        "      min = x[i]\n",
        "      index = i\n",
        "  return index\n",
        "\n",
        "\n",
        "arr = np.random.rand(10, 1)\n",
        "print(arr)\n",
        "print()\n",
        "print(argmin(arr))"
      ],
      "metadata": {
        "colab": {
          "base_uri": "https://localhost:8080/"
        },
        "id": "9r4cToINoAQa",
        "outputId": "f5d13cfd-e7e5-4fdc-a470-73e4bef0ba68"
      },
      "execution_count": 56,
      "outputs": [
        {
          "output_type": "stream",
          "name": "stdout",
          "text": [
            "[[0.42678249]\n",
            " [0.36598378]\n",
            " [0.35833729]\n",
            " [0.63748157]\n",
            " [0.92017974]\n",
            " [0.39561507]\n",
            " [0.83040158]\n",
            " [0.37211866]\n",
            " [0.40407068]\n",
            " [0.96072742]]\n",
            "\n",
            "2\n"
          ]
        }
      ]
    },
    {
      "cell_type": "code",
      "source": [
        "print(np.argmin(arr))"
      ],
      "metadata": {
        "colab": {
          "base_uri": "https://localhost:8080/"
        },
        "id": "KHGAfeeCn_Dd",
        "outputId": "ebd041d0-105b-43ba-feed-fd5cef633d1f"
      },
      "execution_count": 57,
      "outputs": [
        {
          "output_type": "stream",
          "name": "stdout",
          "text": [
            "2\n"
          ]
        }
      ]
    },
    {
      "cell_type": "markdown",
      "source": [
        "We can see that np.argmin gives the same output as the defined argmin function."
      ],
      "metadata": {
        "id": "SlXW1AnmrNLP"
      }
    },
    {
      "cell_type": "code",
      "source": [],
      "metadata": {
        "id": "i3t4WcSNrFuD"
      },
      "execution_count": null,
      "outputs": []
    }
  ]
}